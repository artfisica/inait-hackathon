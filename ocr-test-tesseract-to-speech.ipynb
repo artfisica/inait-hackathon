{
 "cells": [
  {
   "cell_type": "markdown",
   "id": "a59cf234",
   "metadata": {},
   "source": [
    "**From image to speech**"
   ]
  },
  {
   "cell_type": "code",
   "execution_count": 11,
   "id": "73dadf3e",
   "metadata": {
    "scrolled": true
   },
   "outputs": [
    {
     "name": "stdout",
     "output_type": "stream",
     "text": [
      "Requirement already satisfied: pip in /Users/asanchez/.local/lib/python3.9/site-packages (22.3.1)\n",
      "Requirement already satisfied: awkward in /Users/asanchez/.local/lib/python3.9/site-packages (1.10.2)\n",
      "Requirement already satisfied: vector in /Users/asanchez/.local/lib/python3.9/site-packages (0.10.0)\n",
      "Requirement already satisfied: numpy in /Users/asanchez/.local/lib/python3.9/site-packages (1.23.5)\n",
      "Requirement already satisfied: matplotlib in /Users/asanchez/.local/lib/python3.9/site-packages (3.6.2)\n",
      "Requirement already satisfied: pytesseract in /Users/asanchez/.local/lib/python3.9/site-packages (0.3.10)\n",
      "Requirement already satisfied: opencv-python in /Users/asanchez/.local/lib/python3.9/site-packages (4.6.0.66)\n",
      "Requirement already satisfied: imutils in /Users/asanchez/.local/lib/python3.9/site-packages (0.5.4)\n",
      "Requirement already satisfied: gtts in /Users/asanchez/opt/anaconda3/lib/python3.9/site-packages (2.3.0)\n",
      "Requirement already satisfied: packaging in /Users/asanchez/opt/anaconda3/lib/python3.9/site-packages (from awkward) (21.3)\n",
      "Requirement already satisfied: python-dateutil>=2.7 in /Users/asanchez/opt/anaconda3/lib/python3.9/site-packages (from matplotlib) (2.8.2)\n",
      "Requirement already satisfied: fonttools>=4.22.0 in /Users/asanchez/opt/anaconda3/lib/python3.9/site-packages (from matplotlib) (4.25.0)\n",
      "Requirement already satisfied: cycler>=0.10 in /Users/asanchez/opt/anaconda3/lib/python3.9/site-packages (from matplotlib) (0.11.0)\n",
      "Requirement already satisfied: pyparsing>=2.2.1 in /Users/asanchez/opt/anaconda3/lib/python3.9/site-packages (from matplotlib) (3.0.4)\n",
      "Requirement already satisfied: kiwisolver>=1.0.1 in /Users/asanchez/opt/anaconda3/lib/python3.9/site-packages (from matplotlib) (1.3.2)\n",
      "Requirement already satisfied: contourpy>=1.0.1 in /Users/asanchez/.local/lib/python3.9/site-packages (from matplotlib) (1.0.6)\n",
      "Requirement already satisfied: pillow>=6.2.0 in /Users/asanchez/opt/anaconda3/lib/python3.9/site-packages (from matplotlib) (9.0.1)\n",
      "Requirement already satisfied: click~=8.1.3 in /Users/asanchez/opt/anaconda3/lib/python3.9/site-packages (from gtts) (8.1.3)\n",
      "Requirement already satisfied: six~=1.16.0 in /Users/asanchez/opt/anaconda3/lib/python3.9/site-packages (from gtts) (1.16.0)\n",
      "Requirement already satisfied: requests~=2.28.0 in /Users/asanchez/opt/anaconda3/lib/python3.9/site-packages (from gtts) (2.28.1)\n",
      "Requirement already satisfied: certifi>=2017.4.17 in /Users/asanchez/opt/anaconda3/lib/python3.9/site-packages (from requests~=2.28.0->gtts) (2021.10.8)\n",
      "Requirement already satisfied: urllib3<1.27,>=1.21.1 in /Users/asanchez/opt/anaconda3/lib/python3.9/site-packages (from requests~=2.28.0->gtts) (1.26.9)\n",
      "Requirement already satisfied: charset-normalizer<3,>=2 in /Users/asanchez/opt/anaconda3/lib/python3.9/site-packages (from requests~=2.28.0->gtts) (2.0.4)\n",
      "Requirement already satisfied: idna<4,>=2.5 in /Users/asanchez/opt/anaconda3/lib/python3.9/site-packages (from requests~=2.28.0->gtts) (3.3)\n"
     ]
    }
   ],
   "source": [
    "import sys\n",
    "# update the pip package installer\n",
    "!{sys.executable} -m pip install --upgrade --user pip\n",
    "# install required packages\n",
    "!{sys.executable} -m pip install --upgrade --user awkward vector numpy matplotlib pytesseract opencv-python imutils gtts"
   ]
  },
  {
   "cell_type": "code",
   "execution_count": 12,
   "id": "9d274a7f",
   "metadata": {},
   "outputs": [],
   "source": [
    "import cv2\n",
    "import pytesseract"
   ]
  },
  {
   "cell_type": "code",
   "execution_count": 13,
   "id": "137a93a2",
   "metadata": {},
   "outputs": [],
   "source": [
    "# Grayscale, Gaussian blur, Otsu's threshold\n",
    "#image = cv2.imread('20221124_111425.jpg')\n",
    "image = cv2.imread('testocr.png')\n",
    "\n",
    "gray = cv2.cvtColor(image, cv2.COLOR_BGR2GRAY)\n",
    "blur = cv2.GaussianBlur(gray, (3,3), 0)\n",
    "thresh = cv2.threshold(blur, 0, 255, cv2.THRESH_BINARY_INV + cv2.THRESH_OTSU)[1]"
   ]
  },
  {
   "cell_type": "code",
   "execution_count": 14,
   "id": "95a35454",
   "metadata": {},
   "outputs": [],
   "source": [
    "# Morph open to remove noise and invert image\n",
    "kernel = cv2.getStructuringElement(cv2.MORPH_RECT, (3,3))\n",
    "opening = cv2.morphologyEx(thresh, cv2.MORPH_OPEN, kernel, iterations=1)\n",
    "invert = 255 - opening"
   ]
  },
  {
   "cell_type": "code",
   "execution_count": 15,
   "id": "1de91a4f",
   "metadata": {},
   "outputs": [
    {
     "data": {
      "image/png": "[encoded data removed]",
      "text/plain": [
       "<Figure size 432x288 with 1 Axes>"
      ]
     },
     "metadata": {
      "needs_background": "light"
     },
     "output_type": "display_data"
    }
   ],
   "source": [
    "## This is an optional cell\n",
    "from matplotlib import pyplot as plt\n",
    "def displayColorImage(image, title):\n",
    "    plt.imshow(cv2.cvtColor(image, cv2.COLOR_BGR2RGB), interpolation=\"nearest\")\n",
    "    plt.title(title)\n",
    "    plt.show()\n",
    "    \n",
    "displayColorImage(image, \"original\")"
   ]
  },
  {
   "cell_type": "code",
   "execution_count": 16,
   "id": "be6deae4",
   "metadata": {},
   "outputs": [
    {
     "name": "stdout",
     "output_type": "stream",
     "text": [
      "This is a lot of 12 point text to test the\n",
      "ocr code and see if it works on all types\n",
      "of fil farmat\n",
      "\n",
      "The quick brown dog jumped over the\n",
      "lazy fox. The quick brown dog jurnped\n",
      "over the lazy fox. The quick brawn dog\n",
      "jumped aver the lazy fox. The quick\n",
      "brown dog jumped over the lazy fox.\n",
      "\n"
     ]
    }
   ],
   "source": [
    "# Perform text extraction\n",
    "data = pytesseract.image_to_string(invert, lang='eng', config='--psm 6')\n",
    "print(data)"
   ]
  },
  {
   "cell_type": "code",
   "execution_count": 8,
   "id": "f4fd054b",
   "metadata": {},
   "outputs": [],
   "source": [
    "from gtts import gTTS\n",
    "import subprocess\n",
    "import os"
   ]
  },
  {
   "cell_type": "code",
   "execution_count": 9,
   "id": "d50b722d",
   "metadata": {},
   "outputs": [],
   "source": [
    "class Text2Speech:\n",
    "    def text2speech(self, text: str, language: str = \"en\"):\n",
    "        \"\"\"Get a string and returns a saved audio file where the string is read.\n",
    "        Parameters\n",
    "        ----------\n",
    "        text : string, required\n",
    "            The text to be read.\n",
    "        Return\n",
    "        ------\n",
    "        audio : wav file.\n",
    "            The file containing the read text.\n",
    "        \"\"\"\n",
    "        tmp_file_name = \"text_to_read.wav\"\n",
    "        audio = gTTS(text=text, lang=language, slow=False)\n",
    "        audio.save(tmp_file_name)\n",
    "        return_code = subprocess.call([\"afplay\", tmp_file_name])\n",
    "        os.remove(tmp_file_name)"
   ]
  },
  {
   "cell_type": "code",
   "execution_count": 10,
   "id": "69fde3f3",
   "metadata": {},
   "outputs": [],
   "source": [
    "tts = Text2Speech()\n",
    "#text = \"I don't know what you are talking about\"\n",
    "tts.text2speech(data)"
   ]
  },
  {
   "cell_type": "code",
   "execution_count": null,
   "id": "c28b6832",
   "metadata": {},
   "outputs": [],
   "source": []
  }
 ],
 "metadata": {
  "kernelspec": {
   "display_name": "Python 3 (ipykernel)",
   "language": "python",
   "name": "python3"
  },
  "language_info": {
   "codemirror_mode": {
    "name": "ipython",
    "version": 3
   },
   "file_extension": ".py",
   "mimetype": "text/x-python",
   "name": "python",
   "nbconvert_exporter": "python",
   "pygments_lexer": "ipython3",
   "version": "3.9.12"
  }
 },
 "nbformat": 4,
 "nbformat_minor": 5
}
